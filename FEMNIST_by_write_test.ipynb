{
 "cells": [
  {
   "cell_type": "code",
   "execution_count": 143,
   "metadata": {},
   "outputs": [],
   "source": [
    "import h5py\n",
    "import numpy as np\n",
    "\n",
    "from torch.utils.data import Dataset\n",
    "from torchvision.transforms import ToTensor, Lambda\n",
    "import torch"
   ]
  },
  {
   "cell_type": "code",
   "execution_count": 153,
   "metadata": {},
   "outputs": [
    {
     "name": "stdout",
     "output_type": "stream",
     "text": [
      "FEMNIST dataset contains images from 3597 writers\n"
     ]
    }
   ],
   "source": [
    "path = \"datasets\\FEMNIST_by_write\\write_all_labels.hdf5\"\n",
    "binary_data_file = h5py.File(path, \"r\")\n",
    "\n",
    "writers = sorted(binary_data_file.keys())"
   ]
  },
  {
   "cell_type": "code",
   "execution_count": 146,
   "metadata": {},
   "outputs": [],
   "source": [
    "dic_train_indices = dict()\n",
    "dic_test_indices = dict()\n",
    "\n",
    "for writer in writers:\n",
    "    labels = binary_data_file[writer]['labels']\n",
    "\n",
    "    lst_range = np.arange(0, len(labels))\n",
    "    lst_random = np.random.permutation(lst_range)\n",
    "    test_indices = lst_random[: int(len(lst_random)*0.1)]\n",
    "    train_indices = list(filter(lambda i: i not in test_indices, lst_range))\n",
    "\n",
    "    dic_train_indices[writer] = train_indices\n",
    "    dic_test_indices[writer] = test_indices"
   ]
  },
  {
   "cell_type": "code",
   "execution_count": 147,
   "metadata": {},
   "outputs": [],
   "source": [
    "class FEMNIST_Test_Dataset(Dataset):\n",
    "    def __init__(self, transform=None, target_transform=None):\n",
    "        self.images = []\n",
    "        self.labels = []\n",
    "        for writer in writers:\n",
    "            self.images.extend(binary_data_file[writer]['images'][sorted(dic_test_indices[writer])])\n",
    "            self.labels.extend(binary_data_file[writer]['labels'][sorted(dic_test_indices[writer])])\n",
    "\n",
    "        self.transform = transform\n",
    "        self.target_transform = target_transform\n",
    "\n",
    "    def __len__(self):\n",
    "        return len(self.labels)\n",
    "\n",
    "    def __getitem__(self, index):\n",
    "        img = self.images[index]\n",
    "        label = self.labels[index]\n",
    "\n",
    "        if self.transform:\n",
    "            img = self.transform(img)\n",
    "\n",
    "        if self.target_transform:\n",
    "            label = self.target_transform(label)\n",
    "        \n",
    "        return img, label"
   ]
  },
  {
   "cell_type": "code",
   "execution_count": 148,
   "metadata": {},
   "outputs": [],
   "source": [
    "class FEMNIST_Train_Dataset(Dataset):\n",
    "    def __init__(self, writer, transform=None, target_transform=None):\n",
    "        self.images = binary_data_file[writer]['images'][sorted(dic_train_indices[writer])]\n",
    "        self.labels = binary_data_file[writer]['labels'][sorted(dic_train_indices[writer])]\n",
    "        self.transform = transform\n",
    "        self.target_transform = target_transform\n",
    "\n",
    "    def __len__(self):\n",
    "        return len(self.labels)\n",
    "\n",
    "    def __getitem__(self, index):\n",
    "        img = self.images[index]\n",
    "        label = self.labels[index]\n",
    "\n",
    "        if self.transform:\n",
    "            img = self.transform(img)\n",
    "\n",
    "        if self.target_transform:\n",
    "            label = self.target_transform(label)\n",
    "        \n",
    "        return img, label"
   ]
  },
  {
   "cell_type": "code",
   "execution_count": 150,
   "metadata": {},
   "outputs": [],
   "source": [
    "client_datasets = list()\n",
    "\n",
    "for writer in writers:\n",
    "    client_dataset = FEMNIST_Train_Dataset(writer,\n",
    "                                           transform=ToTensor(),\n",
    "                                           target_transform=Lambda(lambda y: torch.zeros(62)\n",
    "                                                 .scatter_(dim=0, index=torch.tensor(y, dtype=torch.int64), value=1))\n",
    "                                        )\n",
    "\n",
    "    client_datasets.append(client_dataset)"
   ]
  },
  {
   "cell_type": "code",
   "execution_count": 151,
   "metadata": {},
   "outputs": [],
   "source": [
    "test_dataset = FEMNIST_Test_Dataset(transform=ToTensor(),\n",
    "                                    target_transform=Lambda(lambda y: torch.zeros(62)\n",
    "                                          .scatter_(dim=0, index=torch.tensor(y, dtype=torch.int64), value=1))\n",
    "                                    )"
   ]
  },
  {
   "cell_type": "code",
   "execution_count": null,
   "metadata": {},
   "outputs": [],
   "source": []
  }
 ],
 "metadata": {
  "kernelspec": {
   "display_name": "fss",
   "language": "python",
   "name": "python3"
  },
  "language_info": {
   "codemirror_mode": {
    "name": "ipython",
    "version": 3
   },
   "file_extension": ".py",
   "mimetype": "text/x-python",
   "name": "python",
   "nbconvert_exporter": "python",
   "pygments_lexer": "ipython3",
   "version": "3.10.14"
  },
  "orig_nbformat": 4
 },
 "nbformat": 4,
 "nbformat_minor": 2
}
