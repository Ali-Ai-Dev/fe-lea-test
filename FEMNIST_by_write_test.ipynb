{
 "cells": [
  {
   "cell_type": "code",
   "execution_count": 22,
   "metadata": {},
   "outputs": [],
   "source": [
    "import h5py\n",
    "import numpy as np\n",
    "import matplotlib.pyplot as plt"
   ]
  },
  {
   "cell_type": "code",
   "execution_count": 23,
   "metadata": {},
   "outputs": [
    {
     "name": "stdout",
     "output_type": "stream",
     "text": [
      "datasets contains images from 3597 writers\n"
     ]
    }
   ],
   "source": [
    "path = \"datasets\\FEMNIST_by_write\\write_all_labels.hdf5\"\n",
    "binary_data_file = h5py.File(path, \"r\")\n",
    "\n",
    "writers = sorted(binary_data_file.keys())\n",
    "print(f'datasets contains images from {len(writers)} writers')"
   ]
  },
  {
   "cell_type": "code",
   "execution_count": 24,
   "metadata": {},
   "outputs": [],
   "source": [
    "dic_train_indices = dict()\n",
    "lst_test_indices = np.array([])"
   ]
  },
  {
   "cell_type": "code",
   "execution_count": 27,
   "metadata": {},
   "outputs": [],
   "source": [
    "for writer in writers:\n",
    "    labels = binary_data_file[writer]['labels']\n",
    "\n",
    "    lst_range = np.arange(0, len(labels))\n",
    "    lst_random = np.random.permutation(lst_range)\n",
    "    test_indices = lst_random[: int(len(lst_random)*0.1)]\n",
    "    train_indices = list(filter(lambda i: i not in test_indices, lst_range))\n",
    "\n",
    "    dic_train_indices[writer] = train_indices\n",
    "    lst_test_indices = np.append(lst_test_indices, labels[test_indices])"
   ]
  },
  {
   "cell_type": "code",
   "execution_count": 21,
   "metadata": {},
   "outputs": [
    {
     "data": {
      "text/plain": [
       "array([ 0,  0,  0,  1,  1,  2,  3,  5,  6,  8,  9, 10, 10, 12, 13, 18, 19,\n",
       "       22, 22, 22, 24, 25, 25, 27, 28, 34, 36, 39, 40, 40, 40, 49, 53, 55,\n",
       "       55, 55, 55, 58], dtype=uint8)"
      ]
     },
     "execution_count": 21,
     "metadata": {},
     "output_type": "execute_result"
    }
   ],
   "source": [
    "labels[sorted(test_indices)]"
   ]
  },
  {
   "cell_type": "code",
   "execution_count": 20,
   "metadata": {},
   "outputs": [
    {
     "data": {
      "text/plain": [
       "array([ 0,  0,  0,  1,  1,  2,  3,  5,  6,  8,  9, 10, 10, 12, 13, 18, 19,\n",
       "       22, 22, 22, 24, 25, 25, 27, 28, 34, 36, 39, 40, 40, 40, 49, 53, 55,\n",
       "       55, 55, 55, 58], dtype=uint8)"
      ]
     },
     "execution_count": 20,
     "metadata": {},
     "output_type": "execute_result"
    }
   ],
   "source": [
    "binary_data_file[writer]['labels'][sorted(test_indices)]"
   ]
  },
  {
   "cell_type": "code",
   "execution_count": null,
   "metadata": {},
   "outputs": [],
   "source": []
  }
 ],
 "metadata": {
  "kernelspec": {
   "display_name": "fss",
   "language": "python",
   "name": "python3"
  },
  "language_info": {
   "codemirror_mode": {
    "name": "ipython",
    "version": 3
   },
   "file_extension": ".py",
   "mimetype": "text/x-python",
   "name": "python",
   "nbconvert_exporter": "python",
   "pygments_lexer": "ipython3",
   "version": "3.10.14"
  },
  "orig_nbformat": 4
 },
 "nbformat": 4,
 "nbformat_minor": 2
}
