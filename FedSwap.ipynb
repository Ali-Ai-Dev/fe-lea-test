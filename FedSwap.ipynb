{
 "cells": [
  {
   "cell_type": "code",
   "execution_count": 1,
   "metadata": {},
   "outputs": [],
   "source": [
    "# %%capture\n",
    "# !pip install tensorflow==2.10.0"
   ]
  },
  {
   "cell_type": "code",
   "execution_count": 2,
   "metadata": {},
   "outputs": [],
   "source": [
    "from keras.datasets import mnist\n",
    "from sklearn.preprocessing import OneHotEncoder\n",
    "import random\n",
    "import tensorflow as tf\n",
    "from keras import models, layers\n",
    "from keras import backend\n",
    "from sklearn.metrics import accuracy_score\n",
    "import matplotlib.pyplot as plt\n",
    "import gc\n",
    "import psutil\n",
    "import time\n",
    "import glob\n",
    "import os\n",
    "import numpy as np"
   ]
  },
  {
   "cell_type": "code",
   "execution_count": 3,
   "metadata": {},
   "outputs": [],
   "source": [
    "mySeed = 42\n",
    "np.random.seed(mySeed)\n",
    "random.seed(mySeed)\n",
    "tf.random.set_seed(mySeed)\n",
    "# torch.manual_seed(mySeed)"
   ]
  },
  {
   "cell_type": "code",
   "execution_count": 4,
   "metadata": {},
   "outputs": [],
   "source": [
    "def get_memory_usage():\n",
    "    memory_info = psutil.virtual_memory()\n",
    "    memory_percent = memory_info.percent\n",
    "    # memory_free_values = memory_info.available / (1024**3)  # in GB\n",
    "    return memory_percent"
   ]
  },
  {
   "cell_type": "code",
   "execution_count": 5,
   "metadata": {},
   "outputs": [],
   "source": [
    "passed_steps = 0\n",
    "is_print_eval = False"
   ]
  },
  {
   "cell_type": "code",
   "execution_count": 6,
   "metadata": {},
   "outputs": [],
   "source": [
    "# Hyper parameters\n",
    "\n",
    "num_clients = 5\n",
    "batch_size = 8\n",
    "total_steps = 10\n",
    "\n",
    "clear_memory_in_percent = 80\n",
    "\n",
    "lr = 0.01\n",
    "# optimizer = tf.keras.optimizers.legacy.Adam(learning_rate=lr, decay=lr/total_steps)\n",
    "optimizer = \"adam\"\n",
    "loss_cce = tf.keras.losses.CategoricalCrossentropy(from_logits=False)\n",
    "metrics = [\"accuracy\"]\n",
    "client_epochs = 1\n",
    "\n",
    "swap_step = 2\n",
    "n_swap_between_avg = 2 # plus one to your number, if need 2 swap between avg, enter 3"
   ]
  },
  {
   "attachments": {},
   "cell_type": "markdown",
   "metadata": {},
   "source": [
    "## Load Data"
   ]
  },
  {
   "cell_type": "code",
   "execution_count": 7,
   "metadata": {},
   "outputs": [
    {
     "name": "stdout",
     "output_type": "stream",
     "text": [
      "Train x=(60000, 28, 28), y=(60000, 10)\n",
      "Test x=(10000, 28, 28), y=(10000, 10)\n"
     ]
    }
   ],
   "source": [
    "(x_train, y_train), (x_test, y_test) = mnist.load_data()\n",
    "\n",
    "# Normalize data\n",
    "x_train, x_test = x_train/255, x_test/255\n",
    "\n",
    "# OneHotEncoded Labels\n",
    "oneHotEncoder = OneHotEncoder(handle_unknown=\"ignore\", sparse_output=False)\n",
    "y_train = oneHotEncoder.fit_transform(y_train.reshape(-1, 1))\n",
    "y_test = oneHotEncoder.transform(y_test.reshape(-1, 1))\n",
    "\n",
    "print(f\"Train x={x_train.shape}, y={y_train.shape}\")\n",
    "print(f\"Test x={x_test.shape}, y={y_test.shape}\")"
   ]
  },
  {
   "cell_type": "code",
   "execution_count": 8,
   "metadata": {},
   "outputs": [
    {
     "name": "stdout",
     "output_type": "stream",
     "text": [
      "Train x=(60000, 784), y=(60000, 10)\n",
      "Test x=(10000, 784), y=(10000, 10)\n"
     ]
    }
   ],
   "source": [
    "# Remove one dimension for data\n",
    "x_train = x_train.reshape(-1, x_train.shape[1]*x_train.shape[2])\n",
    "x_test = x_test.reshape(-1, x_test.shape[1]*x_test.shape[2])\n",
    "\n",
    "print(f\"Train x={x_train.shape}, y={y_train.shape}\")\n",
    "print(f\"Test x={x_test.shape}, y={y_test.shape}\")"
   ]
  },
  {
   "cell_type": "code",
   "execution_count": 9,
   "metadata": {},
   "outputs": [
    {
     "name": "stdout",
     "output_type": "stream",
     "text": [
      "Train x=(600, 784), y=(600, 10)\n",
      "Test x=(100, 784), y=(100, 10)\n"
     ]
    }
   ],
   "source": [
    "# Remove some data for running faster in test\n",
    "remain = 0.01\n",
    "\n",
    "x_train = x_train[:int(x_train.shape[0]*remain)]\n",
    "y_train = y_train[:int(y_train.shape[0]*remain)]\n",
    "x_test = x_test[:int(x_test.shape[0]*remain)]\n",
    "y_test = y_test[:int(y_test.shape[0]*remain)]\n",
    "\n",
    "print(f\"Train x={x_train.shape}, y={y_train.shape}\")\n",
    "print(f\"Test x={x_test.shape}, y={y_test.shape}\")"
   ]
  },
  {
   "cell_type": "code",
   "execution_count": 10,
   "metadata": {},
   "outputs": [],
   "source": [
    "def create_clients_with_data_assignment(values_list, label_list, num_clients=10, initial=\"client\"):\n",
    "    \"\"\" return: A dictionary with the customer id as the dictionary key and the value\n",
    "                will be the data fragment - tuple of values and labels.\n",
    "        args:\n",
    "            values_list: a numpy array object with the values\n",
    "            label_list: list of binarized labels (one-hot encoded)\n",
    "            num_clients: number of customers (clients)\n",
    "            initial: the prefix of the clients, e.g., client_1\n",
    "     \"\"\"\n",
    "\n",
    "    # create list of client names\n",
    "    client_names = [f\"{initial}_{i+1}\" for i in range(num_clients)]\n",
    "\n",
    "    # shuffle the data\n",
    "    data = list(zip(values_list, label_list))\n",
    "    random.shuffle(data)\n",
    "\n",
    "    # shard the data and split it for each customer\n",
    "    size = len(data) // num_clients\n",
    "    shards = [data[i: i+size]  for i in range(0, size*num_clients, size)]\n",
    "\n",
    "    # Check if the fragment number is equal to the number of clients\n",
    "    assert(len(shards) == len(client_names))\n",
    "\n",
    "    return {client_names[i]: shards[i]  for i in range(len(client_names))}"
   ]
  },
  {
   "cell_type": "code",
   "execution_count": 11,
   "metadata": {},
   "outputs": [],
   "source": [
    "def batch_data(data_shard, batch_size=32):\n",
    "    \"\"\" Receives a piece of data (values, labels) from a client and creates a tensorflow Dataset object in it\n",
    "        args:\n",
    "            data_shard: values and labels that make up a customer's data shard\n",
    "            batch_size: batch size\n",
    "        return:\n",
    "            data tensorflow Dataset object\n",
    "    \"\"\"\n",
    "    #seperate shard into data and labels lists\n",
    "    values, labels = zip(*data_shard)\n",
    "    dataset = tf.data.Dataset.from_tensor_slices((list(values), list(labels)))\n",
    "    return dataset.shuffle(len(labels), reshuffle_each_iteration=False).batch(batch_size)\n",
    "\n",
    "\n",
    "### Explaining the function with example ###\n",
    "# test = list(zip([[1, 2], [3, 4], [5, 6], [7, 8]], [\"a\", \"b\", \"c\", \"d\"]))\n",
    "# print(test)\n",
    "# data, label = zip(*test)\n",
    "# print(data)\n",
    "# print(label)\n",
    "\n",
    "# dataset = tf.data.Dataset.from_tensor_slices((list(data), list(label)))\n",
    "# test1 = dataset.shuffle(len(label))\n",
    "# print(list(test1.as_numpy_iterator()))\n",
    "# test2 = dataset.shuffle(len(label)).batch(3)\n",
    "# print(list(test2.as_numpy_iterator()))\n",
    "# list(test2)[0][0].shape"
   ]
  },
  {
   "cell_type": "code",
   "execution_count": 12,
   "metadata": {},
   "outputs": [],
   "source": [
    "# Create clients and batched data\n",
    "\n",
    "clients = create_clients_with_data_assignment(x_train, y_train, num_clients=num_clients, initial=\"client\")\n",
    "\n",
    "# Bached data with tensorflow data object\n",
    "clients_batched = dict()\n",
    "for (client_name, data) in clients.items():\n",
    "    clients_batched[client_name] = batch_data(data, batch_size)\n",
    "\n",
    "test_batch_size = len(y_test)\n",
    "# Convert test data to tensorflow data object\n",
    "test_batched = tf.data.Dataset.from_tensor_slices((x_test, y_test)).batch(test_batch_size)"
   ]
  },
  {
   "attachments": {},
   "cell_type": "markdown",
   "metadata": {},
   "source": [
    "## Training"
   ]
  },
  {
   "cell_type": "code",
   "execution_count": 13,
   "metadata": {},
   "outputs": [],
   "source": [
    "def scale_model_weights(weight, scalar):\n",
    "    \"\"\" Scale the model weights \"\"\"\n",
    "\n",
    "    weight_final = []\n",
    "    for i in range(len(weight)):\n",
    "        weight_final.append(weight[i] * scalar)\n",
    "\n",
    "    return weight_final"
   ]
  },
  {
   "cell_type": "code",
   "execution_count": 14,
   "metadata": {},
   "outputs": [],
   "source": [
    "def sum_scaled_weights(scaled_weight_list):\n",
    "    \"\"\" Return the sum of the listed scaled weights.\n",
    "        axis_O is equivalent to the average weight of the weights \"\"\"\n",
    "\n",
    "    avg_weights = list()\n",
    "    # get the average gradient accross all client gradients\n",
    "    for gradient_list_tuple in zip(*scaled_weight_list):\n",
    "        layer_mean = tf.math.reduce_sum(gradient_list_tuple, axis=0)\n",
    "        avg_weights.append(layer_mean)\n",
    "\n",
    "    return avg_weights\n",
    "\n",
    "\n",
    "### Explaining the function with example ###\n",
    "# t = [[[[2, 3],[3, 4]], [[3, 4],[4, 5]], [[4, 5],[5, 6]]],\n",
    "#      [[[5, 6],[6, 7]], [[6, 7],[7, 8]], [[7, 8],[8, 9]]]]\n",
    "# for y in zip(*t):\n",
    "#     print(y)\n",
    "#     print(tf.math.reduce_sum(y, axis=0))"
   ]
  },
  {
   "cell_type": "code",
   "execution_count": 15,
   "metadata": {},
   "outputs": [],
   "source": [
    "def test_global_model(x_test, y_test, model, loss_func):\n",
    "    y_pred = model.predict(x_test, verbose=0)\n",
    "    loss = loss_func(y_test, y_pred)\n",
    "\n",
    "    acc = accuracy_score(tf.argmax(y_test, axis=1), tf.argmax(y_pred, axis=1))\n",
    "\n",
    "    return acc, loss.numpy()"
   ]
  },
  {
   "cell_type": "code",
   "execution_count": 16,
   "metadata": {},
   "outputs": [],
   "source": [
    "class MLP:\n",
    "    @staticmethod\n",
    "    def build(shape, classes):\n",
    "        model = models.Sequential([\n",
    "            layers.Dense(100, activation=\"relu\", input_shape=shape),\n",
    "            layers.Dense(99, activation=\"relu\"),\n",
    "            layers.Dense(classes, activation=\"softmax\"),\n",
    "            ])\n",
    "\n",
    "        return model"
   ]
  },
  {
   "cell_type": "code",
   "execution_count": 17,
   "metadata": {},
   "outputs": [],
   "source": [
    "# Initialize all clients with same weight\n",
    "global_history = {\"accuracy\":list(), \"loss\":list()}\n",
    "mlp_global = MLP()\n",
    "global_model = mlp_global.build(x_train.shape[1:], y_train.shape[-1])\n",
    "global_weights = global_model.get_weights()\n",
    "\n",
    "client_select = list(clients_batched.keys())\n",
    "client_weights = dict.fromkeys(client_select, global_weights)\n",
    "\n",
    "# Load saved state & log\n",
    "last_saved = sorted(glob.glob(\"fs_state_log_step_*.npz\"), key=os.path.getmtime)\n",
    "if last_saved:\n",
    "    last_saved = last_saved[-1]\n",
    "    passed_steps = int(last_saved.split(\"_\")[-1].split(\".\")[0]) + 1\n",
    "\n",
    "    npzFile = np.load(last_saved, allow_pickle=True)\n",
    "    client_weights = npzFile[\"client_weights\"].item()\n",
    "    global_history = npzFile[\"global_history\"].item()\n",
    "    npzFile.close()"
   ]
  },
  {
   "cell_type": "code",
   "execution_count": 18,
   "metadata": {},
   "outputs": [],
   "source": [
    "def fed_swap(client):\n",
    "    random_num = random.randint(0, len(client_select)-1)\n",
    "    random_client = client_select[random_num]\n",
    "\n",
    "    temp_weight = client_weights[random_client]\n",
    "    client_weights[random_client] = client_weights[client]\n",
    "\n",
    "    return temp_weight"
   ]
  },
  {
   "cell_type": "code",
   "execution_count": 19,
   "metadata": {},
   "outputs": [],
   "source": [
    "def fed_avg():\n",
    "    # calculate total training data across clients\n",
    "    # if all clients have a same length\n",
    "    local_count = len(clients[client_select[0]])\n",
    "    global_count = local_count * len(client_select)\n",
    "    scaling_factor = local_count / global_count\n",
    "\n",
    "    # initial list to collect clients weight after scalling\n",
    "    scaled_clients_weight_list = list()\n",
    "    \n",
    "    for client in client_select:\n",
    "        scaled_weights = scale_model_weights(client_weights[client], scaling_factor)\n",
    "        scaled_clients_weight_list.append(scaled_weights)\n",
    "\n",
    "    # to get the average over all the clients model, we simply take the sum of the scaled weights\n",
    "    avg_weights = sum_scaled_weights(scaled_clients_weight_list)\n",
    "\n",
    "    return avg_weights"
   ]
  },
  {
   "cell_type": "code",
   "execution_count": 20,
   "metadata": {},
   "outputs": [],
   "source": [
    "def print_log(training_time, swapping_time, step_time, step):\n",
    "    print(f\"round: {step} | training_time: {training_time:.2f}s | swapping_time: {swapping_time:.2f}s | step_time: {step_time:.2f}s\")\n",
    "\n",
    "    global is_print_eval\n",
    "    if is_print_eval:\n",
    "        is_print_eval = False\n",
    "        print(f\"round: {step} / global_acc: {global_history['accuracy'][-1]:.4%} / global_loss: {global_history['loss'][-1]:.4f}\\n\")"
   ]
  },
  {
   "cell_type": "code",
   "execution_count": 21,
   "metadata": {},
   "outputs": [],
   "source": [
    "def save_state_and_log(step):\n",
    "    if step != 0:\n",
    "        os.remove(f\"fs_state_log_step_{step-1}.npz\")\n",
    "    \n",
    "    np.savez(f\"fs_state_log_step_{step}.npz\", client_weights=client_weights, global_history=global_history)"
   ]
  },
  {
   "cell_type": "code",
   "execution_count": 22,
   "metadata": {},
   "outputs": [
    {
     "name": "stdout",
     "output_type": "stream",
     "text": [
      "round: 3 | training_time: 8.16s | swapping_time: 0.00s | step_time: 8.16s\n",
      "round: 4 | training_time: 7.87s | swapping_time: 0.00s | step_time: 8.46s\n",
      "round: 4 / global_acc: 76.0000% / global_loss: 0.7789\n",
      "\n",
      "round: 5 | training_time: 7.80s | swapping_time: 0.00s | step_time: 7.80s\n",
      "round: 6 | training_time: 7.75s | swapping_time: 0.00s | step_time: 7.75s\n",
      "round: 7 | training_time: 6.99s | swapping_time: 0.00s | step_time: 6.99s\n",
      "round: 8 | training_time: 7.44s | swapping_time: 0.00s | step_time: 7.83s\n",
      "round: 8 / global_acc: 82.0000% / global_loss: 0.5776\n",
      "\n",
      "round: 9 | training_time: 7.87s | swapping_time: 0.00s | step_time: 7.87s\n"
     ]
    }
   ],
   "source": [
    "for step in range(passed_steps, total_steps):\n",
    "    training_time_start = time.time()\n",
    "    for client in client_select:\n",
    "        mlp_local = MLP()\n",
    "        local_model = mlp_local.build(x_train.shape[1:], y_train.shape[-1])\n",
    "        local_model.compile(optimizer=optimizer, loss=loss_cce, metrics=metrics)\n",
    "\n",
    "        local_model.set_weights(client_weights[client])\n",
    "        local_model.fit(clients_batched[client], epochs=client_epochs, verbose=0)\n",
    "        client_weights[client] = local_model.get_weights()\n",
    "\n",
    "        backend.clear_session()\n",
    "        del mlp_local\n",
    "        del local_model\n",
    "\n",
    "        if get_memory_usage() > clear_memory_in_percent:\n",
    "            gc.collect()\n",
    "    \n",
    "    training_time = time.time() - training_time_start\n",
    "\n",
    "    swapping_time_start = time.time()\n",
    "    if (step % swap_step == 0) and (step % (swap_step*n_swap_between_avg) != 0):\n",
    "        for client in client_select:\n",
    "            client_weights[client] = fed_swap(client)\n",
    "    \n",
    "    swapping_time = time.time() - swapping_time_start\n",
    "\n",
    "    if (step % (swap_step*n_swap_between_avg) == 0):\n",
    "        avg_weights = fed_avg()\n",
    "        client_weights = dict.fromkeys(client_select, avg_weights)\n",
    "\n",
    "        # update global model\n",
    "        global_model.set_weights(avg_weights)\n",
    "\n",
    "        is_print_eval = True\n",
    "        # test global model and print out metrics after each ...... round\n",
    "        for (x_test, y_test) in test_batched:\n",
    "            global_acc, global_loss = test_global_model(x_test, y_test, global_model, loss_cce)\n",
    "            global_history[\"accuracy\"].append(global_acc)\n",
    "            global_history[\"loss\"].append(global_loss)\n",
    "\n",
    "    step_time = time.time() - training_time_start\n",
    "    print_log(training_time, swapping_time, step_time, step)\n",
    "    save_state_and_log(step)"
   ]
  },
  {
   "cell_type": "markdown",
   "metadata": {},
   "source": [
    "## Result"
   ]
  },
  {
   "cell_type": "code",
   "execution_count": 23,
   "metadata": {},
   "outputs": [
    {
     "data": {
      "image/png": "[encoded data removed]",
      "text/plain": [
       "<Figure size 640x480 with 1 Axes>"
      ]
     },
     "metadata": {},
     "output_type": "display_data"
    }
   ],
   "source": [
    "plt.plot(global_history[\"loss\"], label=\"test loss\")\n",
    "plt.xlabel(\"Epochs\")\n",
    "plt.ylabel(\"Loss\")\n",
    "plt.title(\"Test Data\")\n",
    "plt.legend()\n",
    "plt.show()"
   ]
  },
  {
   "cell_type": "code",
   "execution_count": 24,
   "metadata": {},
   "outputs": [
    {
     "data": {
      "image/png": "[encoded data removed]",
      "text/plain": [
       "<Figure size 640x480 with 1 Axes>"
      ]
     },
     "metadata": {},
     "output_type": "display_data"
    }
   ],
   "source": [
    "plt.plot(global_history[\"accuracy\"], label=\"test accuracy\")\n",
    "plt.xlabel(\"Epochs\")\n",
    "plt.ylabel(\"Accuracy\")\n",
    "plt.title(\"Test Data\")\n",
    "plt.legend()\n",
    "plt.show()"
   ]
  },
  {
   "cell_type": "code",
   "execution_count": 25,
   "metadata": {},
   "outputs": [
    {
     "data": {
      "image/png": "[encoded data removed]",
      "text/plain": [
       "<Figure size 640x480 with 1 Axes>"
      ]
     },
     "metadata": {},
     "output_type": "display_data"
    }
   ],
   "source": [
    "plt.plot(global_history[\"loss\"], label=\"test loss\")\n",
    "plt.plot(global_history[\"accuracy\"], label=\"test accuracy\")\n",
    "plt.xlabel(\"Epochs\")\n",
    "plt.ylabel(\"Loss / Accuracy\")\n",
    "plt.title(\"Test Data\")\n",
    "plt.legend()\n",
    "plt.show()"
   ]
  },
  {
   "cell_type": "code",
   "execution_count": null,
   "metadata": {},
   "outputs": [],
   "source": []
  },
  {
   "cell_type": "code",
   "execution_count": null,
   "metadata": {},
   "outputs": [],
   "source": []
  }
 ],
 "metadata": {
  "kernelspec": {
   "display_name": "base",
   "language": "python",
   "name": "python3"
  },
  "language_info": {
   "codemirror_mode": {
    "name": "ipython",
    "version": 3
   },
   "file_extension": ".py",
   "mimetype": "text/x-python",
   "name": "python",
   "nbconvert_exporter": "python",
   "pygments_lexer": "ipython3",
   "version": "3.10.12"
  },
  "orig_nbformat": 4
 },
 "nbformat": 4,
 "nbformat_minor": 2
}
