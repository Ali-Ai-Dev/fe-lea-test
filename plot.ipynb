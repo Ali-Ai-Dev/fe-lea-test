{
 "cells": [
  {
   "cell_type": "code",
   "execution_count": null,
   "metadata": {},
   "outputs": [],
   "source": [
    "import numpy as np\n",
    "import matplotlib.pyplot as plt\n",
    "import argparse"
   ]
  },
  {
   "cell_type": "code",
   "execution_count": null,
   "metadata": {},
   "outputs": [],
   "source": [
    "global_historys = list()\n",
    "saved_files = list()\n",
    "plot_labels = list()\n",
    "start_per = 0\n",
    "end_per = 1"
   ]
  },
  {
   "cell_type": "code",
   "execution_count": null,
   "metadata": {},
   "outputs": [],
   "source": [
    "# plot loss, plot accuracy"
   ]
  },
  {
   "cell_type": "code",
   "execution_count": null,
   "metadata": {},
   "outputs": [],
   "source": [
    "parser = argparse.ArgumentParser(prog='Plot_Saved_Log',\n",
    "                                 description=\"Plotting saved log from '.npz' format\",\n",
    "                                 epilog=\"Written by Ali Bozorgzad for comparing results\")\n",
    "\n",
    "# parser.add_argument(\"--num_clients\", \"-c\", dest=\"num_clients\", type=int, default=\"10\",\n",
    "#                     help=\"number of clients\")\n",
    "\n",
    "args, unknown = parser.parse_known_args()\n",
    "# num_clients = args.num_clients\n",
    "\n",
    "\n",
    "for i, arg in enumerate(unknown):\n",
    "    if i % 2 == 0:\n",
    "        saved_files.append(arg)\n",
    "    else:\n",
    "        plot_labels.append(arg)"
   ]
  },
  {
   "cell_type": "code",
   "execution_count": null,
   "metadata": {},
   "outputs": [],
   "source": [
    "# saved_files.append(\"FA_CIFAR10_Conv_10c_64b_91s_1.0cp_1rs_0.001lr_2ce_step_90.npz\")\n",
    "# saved_files.append(\"FS_CIFAR10_Conv_10c_64b_91s_1.0cp_1rs_0.001lr_2ce_1pes_3_10_step_90.npz\")\n",
    "# saved_files.append(\"FSS_CIFAR10_Conv_cka_rbf_best_10c_64b_91s_1.0cp_1rs_0.001lr_2ce_1pes_3_10_step_90.npz\")\n",
    "# saved_files.append(\"FSS_FEMNIST_Conv_cka_rbf_best_5c_64b_91s_1.0cp_1rs_0.001lr_1ce_1pes_3_10_step_14.npz\")"
   ]
  },
  {
   "cell_type": "code",
   "execution_count": null,
   "metadata": {},
   "outputs": [],
   "source": [
    "for sf in saved_files:\n",
    "    npzFile = np.load(f\"save_log/{sf}\", allow_pickle=True)\n",
    "    global_historys.append(npzFile[\"global_history\"].item())\n",
    "    npzFile.close()"
   ]
  },
  {
   "cell_type": "code",
   "execution_count": null,
   "metadata": {},
   "outputs": [],
   "source": [
    "if start_per != 0 or end_per != 1:\n",
    "    length = len(global_historys[0][\"loss\"])\n",
    "    for gh in global_historys:\n",
    "        if length != len(gh[\"loss\"]):\n",
    "            raise Exception(\"Cannot set 'start_per' and 'end_per' when steps are diffrent.\")"
   ]
  },
  {
   "cell_type": "code",
   "execution_count": null,
   "metadata": {},
   "outputs": [],
   "source": [
    "for i, gh in enumerate(global_historys):\n",
    "    si = int(start_per * len(gh[\"loss\"])) # use in for, if the len are diffrent\n",
    "    ei = int(end_per * len(gh[\"loss\"]))\n",
    "    plt.plot(range(si, ei), gh[\"loss\"][si:ei], label=plot_labels[i])\n",
    "plt.xlabel(\"Epochs\")\n",
    "plt.ylabel(\"Loss\")\n",
    "plt.title(\"Test Data\")\n",
    "plt.legend()\n",
    "plt.show()"
   ]
  },
  {
   "cell_type": "code",
   "execution_count": null,
   "metadata": {},
   "outputs": [],
   "source": [
    "for i, gh in enumerate(global_historys):\n",
    "    si = int(start_per * len(gh[\"loss\"]))\n",
    "    ei = int(end_per * len(gh[\"loss\"]))\n",
    "    plt.plot(range(si, ei), gh[\"accuracy\"][si:ei], label=plot_labels[i])\n",
    "plt.xlabel(\"Epochs\")\n",
    "plt.ylabel(\"Accuracy\")\n",
    "plt.title(\"Test Data\")\n",
    "plt.legend()\n",
    "plt.show()"
   ]
  },
  {
   "cell_type": "code",
   "execution_count": null,
   "metadata": {},
   "outputs": [],
   "source": []
  }
 ],
 "metadata": {
  "kernelspec": {
   "display_name": "fss",
   "language": "python",
   "name": "python3"
  },
  "language_info": {
   "codemirror_mode": {
    "name": "ipython",
    "version": 3
   },
   "file_extension": ".py",
   "mimetype": "text/x-python",
   "name": "python",
   "nbconvert_exporter": "python",
   "pygments_lexer": "ipython3",
   "version": "3.10.14"
  },
  "orig_nbformat": 4
 },
 "nbformat": 4,
 "nbformat_minor": 2
}
