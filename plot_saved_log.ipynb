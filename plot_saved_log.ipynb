{
 "cells": [
  {
   "attachments": {},
   "cell_type": "markdown",
   "metadata": {},
   "source": [
    "### Start"
   ]
  },
  {
   "cell_type": "code",
   "execution_count": 197,
   "metadata": {},
   "outputs": [],
   "source": [
    "import numpy as np\n",
    "import matplotlib\n",
    "import matplotlib.pyplot as plt\n",
    "import argparse\n",
    "import os\n",
    "import glob\n",
    "import re"
   ]
  },
  {
   "cell_type": "code",
   "execution_count": 198,
   "metadata": {},
   "outputs": [],
   "source": [
    "global_historys = list()\n",
    "saved_files = list()\n",
    "plot_labels = list()"
   ]
  },
  {
   "cell_type": "code",
   "execution_count": 199,
   "metadata": {},
   "outputs": [],
   "source": [
    "def float_range(mini, maxi):\n",
    "    \"\"\"Return function handle of an argument type function for \n",
    "       ArgumentParser checking a float range: mini <= arg <= maxi\n",
    "         mini - minimum acceptable argument\n",
    "         maxi - maximum acceptable argument\"\"\"\n",
    "\n",
    "    # Define the function with default arguments\n",
    "    def float_range_checker(arg):\n",
    "        \"\"\"New Type function for argparse - a float within predefined range.\"\"\"\n",
    "\n",
    "        try:\n",
    "            f = float(arg)\n",
    "        except ValueError:    \n",
    "            raise argparse.ArgumentTypeError(\"must be a floating point number\")\n",
    "        if f < mini or f > maxi:\n",
    "            raise argparse.ArgumentTypeError(\"must be in range [\" + str(mini) + \" .. \" + str(maxi)+\"]\")\n",
    "        return f\n",
    "\n",
    "    # Return function handle to checking function\n",
    "    return float_range_checker"
   ]
  },
  {
   "cell_type": "code",
   "execution_count": 200,
   "metadata": {},
   "outputs": [],
   "source": [
    "parser = argparse.ArgumentParser(prog=\"plot_saved_log.py 'file1.npz' 'label1' 'file2.npz' 'label2' ... \",\n",
    "                                 description=\"Plotting saved log from '.npz' format\",\n",
    "                                 epilog=\"Written by Ali Bozorgzad for comparing results\")\n",
    "\n",
    "parser.add_argument(\"--plot_title\", \"-i\", dest=\"plot_title\", type=str, default=\"Loss/Acc on data\",\n",
    "                    help=\"plot title, put it between \\\"name\\\"\")\n",
    "parser.add_argument(\"--plot_selection\", \"-s\", dest=\"plot_selection\", type=str, default=\"accuracy\",\n",
    "                    help=\"select your plot\", choices=['loss', 'accuracy'])\n",
    "parser.add_argument(\"--xlabel\", \"-x\", dest=\"xlabel\", type=str, default=\"Epochs\",\n",
    "                    help=\"set the xlabel for plot, put it between \\\"name\\\"\")\n",
    "parser.add_argument(\"--ylabel\", \"-y\", dest=\"ylabel\", type=str, default=\"Loss/Acc\",\n",
    "                    help=\"set the ylabel for plot, put it between \\\"name\\\"\")\n",
    "parser.add_argument(\"--root_path\", \"-p\", dest=\"root_path\", type=str, default=\"save_log\",\n",
    "                    help=\"root path of the '*.npz' files, put it between \\\"name\\\"\")\n",
    "parser.add_argument(\"--xlim_left\", \"-l\", dest=\"xlim_left\", type=str, default=\"None\",\n",
    "                    help=\"set x limit left for plot, None or number\")\n",
    "parser.add_argument(\"--xlim_right\", \"-r\", dest=\"xlim_right\", type=str, default=\"None\",\n",
    "                    help=\"set x limit right for plot, None or number\")\n",
    "parser.add_argument(\"--ylim_bottom\", \"-b\", dest=\"ylim_bottom\", type=str, default=\"None\",\n",
    "                    help=\"set y limit bottom for plot, None or number\")\n",
    "parser.add_argument(\"--ylim_top\", \"-t\", dest=\"ylim_top\", type=str, default=\"None\",\n",
    "                    help=\"set y limit top for plot, None or number\")\n",
    "parser.add_argument(\"--plot_save_name\", \"-n\", dest=\"plot_save_name\", type=str, default=\"NONE\",\n",
    "                    help=\"plots will be saved, if you set this, put it between \\\"name\\\"\")\n",
    "parser.add_argument(\"--show_plot\", \"-o\", dest=\"show_plot\", type=int, default=\"1\",\n",
    "                    help=\"set '0', if u want to not showing plot\", choices=[0, 1])\n",
    "parser.add_argument(\"--plot_dpi\", \"-d\", dest=\"plot_dpi\", type=float_range(10, 1000), default=\"100\",\n",
    "                    help=\"set dpi for plotting figures, between [10...1000]\")\n",
    "parser.add_argument(\"--colors\", \"-c\", dest=\"colors\", type=lambda y:re.split(' |, ', y), default=\"NONE\",\n",
    "                    help=\"set color for each plot in order, like: \\\"red, #00FF00, b, C1, C2, ...\\\"\")\n",
    "\n",
    "\n",
    "args, unknown = parser.parse_known_args()\n",
    "plot_title = args.plot_title\n",
    "plot_selection = args.plot_selection\n",
    "xlabel = args.xlabel\n",
    "ylabel = args.ylabel\n",
    "root_path = args.root_path\n",
    "xlim_left = args.xlim_left\n",
    "xlim_right = args.xlim_right\n",
    "ylim_bottom = args.ylim_bottom\n",
    "ylim_top = args.ylim_top\n",
    "plot_save_name = args.plot_save_name\n",
    "show_plot = args.show_plot\n",
    "plot_dpi = args.plot_dpi\n",
    "colors = args.colors\n",
    "matplotlib.rcParams[\"figure.dpi\"] = plot_dpi\n",
    "\n",
    "\n",
    "for i, arg in enumerate(unknown):\n",
    "    if i % 2 == 0:\n",
    "        saved_files.append(arg)\n",
    "    else:\n",
    "        plot_labels.append(arg)"
   ]
  },
  {
   "cell_type": "code",
   "execution_count": 201,
   "metadata": {},
   "outputs": [],
   "source": [
    "# set parameters (Manual)\n",
    "saved_files = list()\n",
    "plot_labels = list()\n",
    "\n",
    "saved_files.append(\"FSS_MNIST_MLP1_cka_linear_best_10c_32b_1.0cp_1.0sp_normal_1rs_0.001lr_1ce_1pes_5_3_step_1049.npz\")\n",
    "saved_files.append(\"FSS_MNIST_MLP1_cka_rbf_best_10c_32b_1.0cp_1.0sp_normal_1rs_0.001lr_1ce_1pes_5_3_step_1049.npz\")\n",
    "saved_files.append(\"FSS_MNIST_MLP1_dcka_best_10c_32b_1.0cp_1.0sp_normal_1rs_0.001lr_1ce_1pes_5_3_step_1049.npz\")\n",
    "saved_files.append(\"FSS_MNIST_MLP1_sum_diff_best_10c_32b_1.0cp_1.0sp_normal_1rs_0.001lr_1ce_1pes_5_3_step_1049.npz\")\n",
    "saved_files.append(\"FSS_MNIST_MLP1_cca_best_10c_32b_1.0cp_1.0sp_normal_1rs_0.001lr_1ce_1pes_5_3_step_1049.npz\")\n",
    "saved_files.append(\"FA_MNIST_MLP1_10c_32b_1.0cp_normal_1rs_0.001lr_1ce_step_1049.npz\")\n",
    "saved_files.append(\"FS_MNIST_MLP1_10c_32b_1.0cp_1.0sp_normal_1rs_0.001lr_1ce_1pes_5_3_step_1049.npz\")\n",
    "\n",
    "plot_labels.append(\"linear\")\n",
    "plot_labels.append(\"rbf\")\n",
    "plot_labels.append(\"dcka\")\n",
    "plot_labels.append(\"diff\")\n",
    "plot_labels.append(\"cca\")\n",
    "plot_labels.append(\"FA\")\n",
    "plot_labels.append(\"FS\")\n",
    "\n",
    "plot_title = \"Loss/Acc on data\"\n",
    "plot_selection = \"accuracy\"\n",
    "xlabel = \"Epochs\"\n",
    "ylabel = \"Loss/Acc\"\n",
    "root_path = r\"D:\\SSD_Optimization\\User\\Desktop\\save_log\\MNIST_log\"\n",
    "xlim_left = \"None\"\n",
    "xlim_right = \"None\"\n",
    "ylim_bottom = \"None\"\n",
    "ylim_top = \"None\"\n",
    "plot_save_name = \"NONE\"\n",
    "show_plot = 1\n",
    "matplotlib.rcParams[\"figure.dpi\"] = 100\n",
    "colors = [\"NONE\"]"
   ]
  },
  {
   "cell_type": "code",
   "execution_count": 202,
   "metadata": {},
   "outputs": [],
   "source": [
    "def change_type(variable):\n",
    "    if variable == \"None\":\n",
    "        return None\n",
    "    else:\n",
    "        return float(variable)\n",
    "\n",
    "\n",
    "xlim_left = change_type(xlim_left)\n",
    "xlim_right = change_type(xlim_right)\n",
    "ylim_bottom = change_type(ylim_bottom)\n",
    "ylim_top = change_type(ylim_top)"
   ]
  },
  {
   "cell_type": "code",
   "execution_count": 203,
   "metadata": {},
   "outputs": [
    {
     "name": "stdout",
     "output_type": "stream",
     "text": [
      "FSS_MNIST_MLP1_cka_linear_best_10c_32b_1.0cp_1.0sp_normal_1rs_0.001lr_1ce_1pes_5_3_step_1049.npz\n",
      "FSS_MNIST_MLP1_cka_rbf_best_10c_32b_1.0cp_1.0sp_normal_1rs_0.001lr_1ce_1pes_5_3_step_1049.npz\n",
      "FSS_MNIST_MLP1_dcka_best_10c_32b_1.0cp_1.0sp_normal_1rs_0.001lr_1ce_1pes_5_3_step_1049.npz\n",
      "FSS_MNIST_MLP1_sum_diff_best_10c_32b_1.0cp_1.0sp_normal_1rs_0.001lr_1ce_1pes_5_3_step_1049.npz\n",
      "FSS_MNIST_MLP1_cca_best_10c_32b_1.0cp_1.0sp_normal_1rs_0.001lr_1ce_1pes_5_3_step_1049.npz\n",
      "FA_MNIST_MLP1_10c_32b_1.0cp_normal_1rs_0.001lr_1ce_step_1049.npz\n",
      "FS_MNIST_MLP1_10c_32b_1.0cp_1.0sp_normal_1rs_0.001lr_1ce_1pes_5_3_step_1049.npz\n"
     ]
    }
   ],
   "source": [
    "# Check correctness\n",
    "for sf in saved_files:\n",
    "    file_path = os.path.join(root_path, sf)\n",
    "    file_name = sorted(glob.glob(file_path+\"*\"), key=os.path.getmtime)\n",
    "    if len(file_name) == 0:\n",
    "        raise Exception(f\"File not found! '{file_path}'\")\n",
    "    \n",
    "    print(file_name[0].split(\"\\\\\")[-1])\n",
    "    npzFile = np.load(file_name[0], allow_pickle=True)\n",
    "    global_historys.append(npzFile[\"global_history\"].item())\n",
    "    npzFile.close()\n",
    "\n",
    "\n",
    "if colors[0] != \"NONE\":\n",
    "    if len(colors) != len(saved_files):\n",
    "        raise Exception(\"The length of the colors and files must be the same.\")"
   ]
  },
  {
   "attachments": {},
   "cell_type": "markdown",
   "metadata": {},
   "source": [
    "### Loss/Acc"
   ]
  },
  {
   "cell_type": "code",
   "execution_count": 204,
   "metadata": {},
   "outputs": [
    {
     "data": {
      "image/png": "[encoded data removed]",
      "text/plain": [
       "<Figure size 640x480 with 1 Axes>"
      ]
     },
     "metadata": {},
     "output_type": "display_data"
    }
   ],
   "source": [
    "for i, gh in enumerate(global_historys):\n",
    "    length = len(gh[plot_selection])\n",
    "    if colors[0] == \"NONE\":\n",
    "        # or can fill the list with 'colors = [\"C1\", \"C2\", ...]'\n",
    "        plt.plot(range(length), gh[plot_selection], label=plot_labels[i])\n",
    "    else:\n",
    "        plt.plot(range(length), gh[plot_selection], label=plot_labels[i], color=colors[i])\n",
    "plt.xlabel(xlabel)\n",
    "plt.ylabel(ylabel)\n",
    "plt.title(plot_title)\n",
    "plt.xlim(left=xlim_left, right=xlim_right)\n",
    "plt.ylim(bottom=ylim_bottom, top=ylim_top)\n",
    "plt.legend()\n",
    "\n",
    "if plot_save_name != 'NONE':\n",
    "    file_path = os.path.join(root_path, plot_save_name)\n",
    "    plt.savefig(f\"{file_path}_{plot_selection}.jpg\")\n",
    "\n",
    "if show_plot:\n",
    "    plt.show()"
   ]
  },
  {
   "cell_type": "code",
   "execution_count": null,
   "metadata": {},
   "outputs": [],
   "source": []
  }
 ],
 "metadata": {
  "kernelspec": {
   "display_name": "fss",
   "language": "python",
   "name": "python3"
  },
  "language_info": {
   "codemirror_mode": {
    "name": "ipython",
    "version": 3
   },
   "file_extension": ".py",
   "mimetype": "text/x-python",
   "name": "python",
   "nbconvert_exporter": "python",
   "pygments_lexer": "ipython3",
   "version": "3.10.14"
  },
  "orig_nbformat": 4
 },
 "nbformat": 4,
 "nbformat_minor": 2
}
