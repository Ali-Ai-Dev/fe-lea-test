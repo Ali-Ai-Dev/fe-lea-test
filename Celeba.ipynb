{
 "cells": [
  {
   "cell_type": "code",
   "execution_count": 71,
   "metadata": {},
   "outputs": [],
   "source": [
    "import torch\n",
    "from torch.utils.data import Dataset\n",
    "from torchvision import transforms\n",
    "from torchvision.transforms import ToTensor, Lambda\n",
    "from torchvision.io import read_image\n",
    "import os\n",
    "import pandas as pd"
   ]
  },
  {
   "cell_type": "code",
   "execution_count": 72,
   "metadata": {},
   "outputs": [],
   "source": [
    "class CustomImageDataset(Dataset):\n",
    "    def __init__(self, annotations_file, img_dir, transform=None, target_transform=None):\n",
    "        dataframe = pd.read_csv(annotations_file, sep='\\s+', skiprows=1)\n",
    "        self.ds_img_labels = dataframe[\"Smiling\"].replace(-1, 0)\n",
    "        self.img_dir = img_dir\n",
    "        self.transform = transform\n",
    "        self.target_transform = target_transform\n",
    "\n",
    "    def __len__(self):\n",
    "        return len(self.ds_img_labels)\n",
    "\n",
    "    def __getitem__(self, idx):\n",
    "        img_path = os.path.join(self.img_dir, self.ds_img_labels.index[idx])\n",
    "        image = read_image(img_path)\n",
    "        label = self.ds_img_labels.iloc[idx]\n",
    "        if self.transform:\n",
    "            image = self.transform(image)\n",
    "        if self.target_transform:\n",
    "            label = self.target_transform(label)\n",
    "        return image, label"
   ]
  },
  {
   "cell_type": "code",
   "execution_count": 73,
   "metadata": {},
   "outputs": [],
   "source": [
    "annotations_file = r\"D:\\SSD_Optimization\\User\\Desktop\\Celeba Dataset\\Anno\\list_attr_celeba.txt\"\n",
    "img_dir = r\"D:\\SSD_Optimization\\User\\Desktop\\Celeba Dataset\\Img\\align_cutted\\img_align_celeba\"\n",
    "\n",
    "test_customDataset = CustomImageDataset(annotations_file, img_dir,\n",
    "                                        transform=transforms.Compose([\n",
    "                                            transforms.ToPILImage(),\n",
    "                                            transforms.Resize((84,84)),\n",
    "                                            transforms.ToTensor()\n",
    "                                        ]),\n",
    "                                        target_transform=Lambda(lambda y: torch.zeros(2)\n",
    "                                            .scatter_(dim=0, index=torch.tensor(y, dtype=torch.int64), value=1))\n",
    "                                        )"
   ]
  },
  {
   "cell_type": "code",
   "execution_count": 74,
   "metadata": {},
   "outputs": [
    {
     "name": "stdout",
     "output_type": "stream",
     "text": [
      "torch.Size([3, 84, 84])\n",
      "tensor([1., 0.])\n"
     ]
    }
   ],
   "source": [
    "print(test_customDataset[0][0].shape)\n",
    "print(test_customDataset[2][1])"
   ]
  },
  {
   "cell_type": "code",
   "execution_count": null,
   "metadata": {},
   "outputs": [],
   "source": [
    "# Remove Celebs with less than 5 photos\n",
    "# https://github.com/TalwalkarLab/leaf/blob/master/data/celeba/preprocess.sh"
   ]
  },
  {
   "cell_type": "code",
   "execution_count": null,
   "metadata": {},
   "outputs": [],
   "source": [
    "# Add CNN model\n",
    "# https://github.com/TalwalkarLab/leaf/blob/master/models/celeba/cnn.py\n",
    "# Check the whole code for Celeba and then train it"
   ]
  },
  {
   "cell_type": "code",
   "execution_count": null,
   "metadata": {},
   "outputs": [],
   "source": []
  }
 ],
 "metadata": {
  "kernelspec": {
   "display_name": "fss",
   "language": "python",
   "name": "python3"
  },
  "language_info": {
   "codemirror_mode": {
    "name": "ipython",
    "version": 3
   },
   "file_extension": ".py",
   "mimetype": "text/x-python",
   "name": "python",
   "nbconvert_exporter": "python",
   "pygments_lexer": "ipython3",
   "version": "3.10.14"
  },
  "orig_nbformat": 4
 },
 "nbformat": 4,
 "nbformat_minor": 2
}
